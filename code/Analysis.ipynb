{
 "cells": [
  {
   "cell_type": "code",
   "execution_count": null,
   "metadata": {
    "collapsed": true
   },
   "outputs": [],
   "source": [
    "# Author: Jin Zhang"
   ]
  },
  {
   "cell_type": "code",
   "execution_count": null,
   "metadata": {
    "collapsed": true
   },
   "outputs": [],
   "source": [
    "import pandas as pd\n",
    "import numpy as np\n",
    "import matplotlib.pyplot as plt\n",
    "%matplotlib inline\n",
    "pd.set_option('display.max_columns', None)\n",
    "plt.rcParams.update({'font.size': 22})\n",
    "\n"
   ]
  },
  {
   "cell_type": "code",
   "execution_count": null,
   "metadata": {
    "collapsed": true
   },
   "outputs": [],
   "source": [
    "projects = pd.read_csv('./data/opendata_projects000.gz', escapechar='\\\\', \\\n",
    "                           names=['_projectid', '_teacher_acctid', '_schoolid', 'school_ncesid', 'school_latitude', \\\n",
    "                                  'school_longitude', 'school_city', 'school_state', 'school_zip', 'school_metro', \\\n",
    "                                  'school_district', 'school_county', 'school_charter', 'school_magnet', \\\n",
    "                                  'school_year_round', 'school_nlns', 'school_kipp', 'school_charter_ready_promise', \\\n",
    "                                  'teacher_prefix', 'teacher_teach_for_america', 'teacher_ny_teaching_fellow', \\\n",
    "                                  'primary_focus_subject', 'primary_focus_area' ,'secondary_focus_subject', \\\n",
    "                                  'secondary_focus_area', 'resource_type', 'poverty_level', 'grade_level', \\\n",
    "                                  'vendor_shipping_charges', 'sales_tax', 'payment_processing_charges', \\\n",
    "                                  'fulfillment_labor_materials', 'total_price_excluding_optional_support', \\\n",
    "                                  'total_price_including_optional_support', 'students_reached', \\\n",
    "                                  'total_donations', 'num_donors', 'eligible_double_your_impact_match', \\\n",
    "                                  'eligible_almost_home_match', 'funding_status', 'date_posted', 'date_completed', \\\n",
    "                                  'date_thank_you_packet_mailed', 'date_expiration'],\\\n",
    "                       parse_dates= ['date_posted', 'date_completed','date_thank_you_packet_mailed', 'date_expiration']\n",
    "                      )\n"
   ]
  },
  {
   "cell_type": "code",
   "execution_count": null,
   "metadata": {
    "collapsed": true
   },
   "outputs": [],
   "source": [
    "resources = pd.read_csv('./data/opendata_resources000.gz', escapechar='\\\\', \\\n",
    "                        names=['_resourceid', '_projectid', 'vendorid', 'vendor_name', 'item_name',\\\n",
    "                               'item_number', 'item_unit_price', 'item_quantity'])"
   ]
  },
  {
   "cell_type": "code",
   "execution_count": null,
   "metadata": {
    "collapsed": true
   },
   "outputs": [],
   "source": [
    "essays = pd.read_csv('./data/opendata_essays000.gz', escapechar='\\\\', \\\n",
    "                         names=['_projectid', '_teacher_acctid', 'title', 'short_description', 'need_statement', \\\n",
    "                                'essay', 'thankyou_note', 'impact_letter'])"
   ]
  },
  {
   "cell_type": "code",
   "execution_count": null,
   "metadata": {
    "collapsed": true
   },
   "outputs": [],
   "source": [
    "resources['item_total_expense'] = resources.item_unit_price * resources.item_quantity"
   ]
  },
  {
   "cell_type": "code",
   "execution_count": null,
   "metadata": {
    "collapsed": true
   },
   "outputs": [],
   "source": [
    "df_exp_item = resources.loc[resources.groupby('_projectid')['item_total_expense'].transform('max') \\\n",
    "                            == resources['item_total_expense']\\\n",
    "                            ,:].sort_values(['_projectid','item_number'])\\\n",
    "                        .groupby('_projectid',as_index=False).first().drop('_resourceid',axis=1)\n"
   ]
  },
  {
   "cell_type": "code",
   "execution_count": null,
   "metadata": {
    "collapsed": true
   },
   "outputs": [],
   "source": [
    "df_projects = projects[projects.date_posted>='2015-05-01']\n",
    "\n",
    "df_first_project = df_projects.loc[df_projects.groupby('_teacher_acctid')['date_posted'].transform('min')\\\n",
    "                ==df_projects['date_posted'],:].reset_index(drop=True)                                                                                 "
   ]
  },
  {
   "cell_type": "code",
   "execution_count": null,
   "metadata": {
    "collapsed": true
   },
   "outputs": [],
   "source": [
    "#df_first_project['project_count'] = df_first_project.groupby('_teacher_acctid')['_projectid'].transform('count')"
   ]
  },
  {
   "cell_type": "code",
   "execution_count": null,
   "metadata": {
    "collapsed": true
   },
   "outputs": [],
   "source": [
    "df_first_project['posted_month'] = df_first_project.date_posted.apply(lambda x: x.month)\n",
    "df_first_project['posted_year'] = df_first_project.date_posted.apply(lambda x: x.year)\n",
    "df_first_project['funding_success'] = (df_first_project.funding_status == 'completed').astype(int)"
   ]
  },
  {
   "cell_type": "code",
   "execution_count": null,
   "metadata": {
    "collapsed": true
   },
   "outputs": [],
   "source": [
    "df = df_first_project.merge(essays.drop(['thankyou_note','impact_letter'],axis=1), \\\n",
    "                       how = 'left', on = ['_projectid','_teacher_acctid'])\\\n",
    "                .merge(df_exp_item, how = 'left', on = ['_projectid'])"
   ]
  },
  {
   "cell_type": "code",
   "execution_count": null,
   "metadata": {
    "collapsed": true
   },
   "outputs": [],
   "source": [
    "df = df[~pd.isnull(df.primary_focus_subject)]\n",
    "df = df[~pd.isnull(df.title)]"
   ]
  },
  {
   "cell_type": "code",
   "execution_count": null,
   "metadata": {
    "collapsed": true
   },
   "outputs": [],
   "source": [
    "df['item_expense'] = df.total_price_excluding_optional_support - df.sales_tax\\\n",
    "                      - df.vendor_shipping_charges - df.payment_processing_charges"
   ]
  },
  {
   "cell_type": "code",
   "execution_count": null,
   "metadata": {
    "collapsed": true
   },
   "outputs": [],
   "source": []
  },
  {
   "cell_type": "code",
   "execution_count": null,
   "metadata": {
    "collapsed": true
   },
   "outputs": [],
   "source": [
    "# plot on distributions"
   ]
  },
  {
   "cell_type": "code",
   "execution_count": null,
   "metadata": {
    "collapsed": false
   },
   "outputs": [],
   "source": [
    "g = df_first_project.groupby(['posted_year','posted_month'])[['_projectid']].count()\n",
    "\n",
    "ax = g.plot(figsize=(20,10), rot=90, grid = True, title= 'total_count')\n",
    "ax.set_xticks(range(0, g.size,1));\n",
    "ax.set_xticklabels([\"%d-%02d\" % item for index, item in enumerate(g.index.tolist()) if index % 1 ==0], rotation=90);"
   ]
  },
  {
   "cell_type": "code",
   "execution_count": null,
   "metadata": {
    "collapsed": false
   },
   "outputs": [],
   "source": [
    "plt.figure()\n",
    "g = df_first_project.groupby(['posted_year','posted_month'])[['funding_success']].mean()\n",
    "\n",
    "ax = g.plot(figsize=(20,10), rot=90, grid = True, title= 'probability of success')\n",
    "ax.set_xticks(range(0, g.size,1));\n",
    "ax.set_xticklabels([\"%d-%02d\" % item for index, item in enumerate(g.index.tolist()) if index % 1 ==0], \\\n",
    "                   rotation=90, fontsize=15);\n",
    "plt.savefig('prob_success.png',fmt='png', dpi=300, bbox_inches='tight')"
   ]
  },
  {
   "cell_type": "code",
   "execution_count": null,
   "metadata": {
    "collapsed": true
   },
   "outputs": [],
   "source": [
    "df_use = df[df.date_posted<'2016-05-01'].reset_index(drop=True)\n",
    "df_outsample = df[df.date_posted>='2016-05-01'].reset_index(drop=True)"
   ]
  },
  {
   "cell_type": "code",
   "execution_count": null,
   "metadata": {
    "collapsed": true
   },
   "outputs": [],
   "source": [
    "df_use.to_csv('./input/df_use.csv',header=True, index=False) \n",
    "df_outsample.to_csv('./input/df_outsample.csv',header=True, index=False) \n"
   ]
  },
  {
   "cell_type": "code",
   "execution_count": null,
   "metadata": {
    "collapsed": true
   },
   "outputs": [],
   "source": []
  },
  {
   "cell_type": "code",
   "execution_count": null,
   "metadata": {
    "collapsed": true
   },
   "outputs": [],
   "source": []
  }
 ],
 "metadata": {
  "kernelspec": {
   "display_name": "py35",
   "language": "python",
   "name": "py35"
  },
  "language_info": {
   "codemirror_mode": {
    "name": "ipython",
    "version": 3
   },
   "file_extension": ".py",
   "mimetype": "text/x-python",
   "name": "python",
   "nbconvert_exporter": "python",
   "pygments_lexer": "ipython3",
   "version": "3.5.4"
  }
 },
 "nbformat": 4,
 "nbformat_minor": 2
}
